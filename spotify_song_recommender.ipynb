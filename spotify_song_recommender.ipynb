{
 "cells": [
  {
   "cell_type": "code",
   "execution_count": 1,
   "id": "ad94ff6f",
   "metadata": {},
   "outputs": [
    {
     "name": "stdout",
     "output_type": "stream",
     "text": [
      "Couldn't find program: 'False'\n"
     ]
    }
   ],
   "source": [
    "%%script False\n",
    "# requirements\n",
    "numpy\n",
    "pandas\n",
    "matplotlib\n",
    "seaborn\n",
    "sklearn\n",
    "spotipy\n",
    "notebook"
   ]
  },
  {
   "cell_type": "markdown",
   "id": "9ea62462",
   "metadata": {},
   "source": [
    "# Imports"
   ]
  },
  {
   "cell_type": "code",
   "execution_count": 2,
   "id": "7552bab8",
   "metadata": {},
   "outputs": [],
   "source": [
    "# import numpy and pandas to manipulate arrays and dataframes\n",
    "import numpy as np\n",
    "import pandas as pd\n",
    "\n",
    "# import matplotlib and seaborn for data visulaisation\n",
    "import matplotlib.pyplot as plt\n",
    "import seaborn as sns\n",
    "\n",
    "# import sklearn modules to perform relevant ML classification algorithms\n",
    "from sklearn import tree\n",
    "from sklearn.tree import DecisionTreeClassifier\n",
    "from sklearn.linear_model import LogisticRegression\n",
    "from sklearn.neighbors import KNeighborsClassifier\n",
    "from sklearn.ensemble import BaggingClassifier\n",
    "from sklearn.ensemble import RandomForestClassifier\n",
    "from sklearn.ensemble import AdaBoostClassifier\n",
    "from sklearn.ensemble import GradientBoostingClassifier\n",
    "\n",
    "# import sklearn modules to split and evaluate data and for hyper parameter tuning\n",
    "from sklearn.model_selection import train_test_split\n",
    "from sklearn.model_selection import cross_val_score\n",
    "from sklearn.model_selection import GridSearchCV\n",
    "from sklearn.metrics import accuracy_score\n",
    "from sklearn.metrics import roc_auc_score\n",
    "\n",
    "# import modules to connect with spotifys database\n",
    "import spotipy\n",
    "import spotipy.util as util\n",
    "from spotipy.oauth2 import SpotifyClientCredentials"
   ]
  },
  {
   "cell_type": "markdown",
   "id": "9ce80942",
   "metadata": {},
   "source": [
    "# Spotify Data Extraction"
   ]
  },
  {
   "cell_type": "code",
   "execution_count": null,
   "id": "c63d3dfa",
   "metadata": {},
   "outputs": [],
   "source": [
    "# supply spotify credentials and chosen playlists\n",
    "# https://developer.spotify.com/dashboard/applications/57759ff19eb04a3db267339986b1379e\n",
    "cid = \"\"\n",
    "secret = \"\"\n",
    "username = \"\"\n",
    "\n",
    "# playlist ids can be found at the end of the url when viewing a playlist in a web browser\n",
    "good_playlist_id = \"\"\n",
    "bad_playlist_id = \"\""
   ]
  },
  {
   "cell_type": "code",
   "execution_count": 4,
   "id": "651dd2a9",
   "metadata": {},
   "outputs": [],
   "source": [
    "# connect to spotify database\n",
    "client_credentials_manager = SpotifyClientCredentials(client_id=cid, client_secret=secret)\n",
    "sp = spotipy.Spotify(client_credentials_manager=client_credentials_manager)"
   ]
  },
  {
   "cell_type": "code",
   "execution_count": 5,
   "id": "82a05e7b",
   "metadata": {},
   "outputs": [],
   "source": [
    "def extract_track_features(spotify_username, playlist_id):    \n",
    "    '''Extract the track ID for each song in a given playlist'''\n",
    "    \n",
    "    # extract playlist data from spotify\n",
    "    playlist_data = sp.user_playlist(spotify_username, playlist_id)\n",
    "    \n",
    "    # determine the number of tracks in the playlist\n",
    "    num_tracks = len(playlist_data['tracks']['items'])\n",
    "    \n",
    "    # extract the track ID for each track in the playlist\n",
    "    track_ids = [playlist_data['tracks']['items'][index]['track']['id'] for index in range(num_tracks)]\n",
    "    \n",
    "    # obtain track features for all tracks using their ids\n",
    "    track_audio_features = sp.audio_features(track_ids)\n",
    "    \n",
    "    # repeat process if there are more than 100 tracks\n",
    "    if len(track_ids) == 100:\n",
    "        current_track = playlist_data['tracks']\n",
    "        while current_track['next']:\n",
    "            current_track = sp.next(current_track)\n",
    "            num_tracks = len(current_track['items'])\n",
    "            track_audio_features += sp.audio_features([current_track['items'][index]['track']['id'] for index in range(num_tracks)])\n",
    "\n",
    "    # create a dataframe from these features\n",
    "    track_audio_features_df = pd.DataFrame(track_audio_features)\n",
    "    return track_audio_features_df"
   ]
  },
  {
   "cell_type": "code",
   "execution_count": 6,
   "id": "ca7dd0d1",
   "metadata": {},
   "outputs": [],
   "source": [
    "# extract features from all tracks in good and bad playlists\n",
    "good_features = extract_track_features(username, good_playlist_id)\n",
    "bad_features = extract_track_features(username, bad_playlist_id)"
   ]
  },
  {
   "cell_type": "code",
   "execution_count": 7,
   "id": "4c502d3e",
   "metadata": {},
   "outputs": [],
   "source": [
    "def set_target(dataframe, target_value):\n",
    "    '''set the response variable for each song based on which playlist it comes from'''\n",
    "    dataframe['target'] = target_value\n",
    "    return dataframe"
   ]
  },
  {
   "cell_type": "code",
   "execution_count": 8,
   "id": "03d972a6",
   "metadata": {},
   "outputs": [],
   "source": [
    "# set the response variable to use for clasification of good and bad tracks in the eye of the user\n",
    "good_features = set_target(good_features, 1)\n",
    "bad_features = set_target(bad_features, 0)"
   ]
  },
  {
   "cell_type": "code",
   "execution_count": 9,
   "id": "b1af42b2",
   "metadata": {},
   "outputs": [
    {
     "name": "stdout",
     "output_type": "stream",
     "text": [
      "103\n"
     ]
    },
    {
     "data": {
      "text/html": [
       "<div>\n",
       "<style scoped>\n",
       "    .dataframe tbody tr th:only-of-type {\n",
       "        vertical-align: middle;\n",
       "    }\n",
       "\n",
       "    .dataframe tbody tr th {\n",
       "        vertical-align: top;\n",
       "    }\n",
       "\n",
       "    .dataframe thead th {\n",
       "        text-align: right;\n",
       "    }\n",
       "</style>\n",
       "<table border=\"1\" class=\"dataframe\">\n",
       "  <thead>\n",
       "    <tr style=\"text-align: right;\">\n",
       "      <th></th>\n",
       "      <th>danceability</th>\n",
       "      <th>energy</th>\n",
       "      <th>key</th>\n",
       "      <th>loudness</th>\n",
       "      <th>mode</th>\n",
       "      <th>speechiness</th>\n",
       "      <th>acousticness</th>\n",
       "      <th>instrumentalness</th>\n",
       "      <th>liveness</th>\n",
       "      <th>valence</th>\n",
       "      <th>tempo</th>\n",
       "      <th>type</th>\n",
       "      <th>id</th>\n",
       "      <th>uri</th>\n",
       "      <th>track_href</th>\n",
       "      <th>analysis_url</th>\n",
       "      <th>duration_ms</th>\n",
       "      <th>time_signature</th>\n",
       "    </tr>\n",
       "  </thead>\n",
       "  <tbody>\n",
       "    <tr>\n",
       "      <th>0</th>\n",
       "      <td>0.808</td>\n",
       "      <td>0.897</td>\n",
       "      <td>11</td>\n",
       "      <td>-3.712</td>\n",
       "      <td>0</td>\n",
       "      <td>0.0348</td>\n",
       "      <td>0.0469</td>\n",
       "      <td>0.000031</td>\n",
       "      <td>0.3640</td>\n",
       "      <td>0.591</td>\n",
       "      <td>126.026</td>\n",
       "      <td>audio_features</td>\n",
       "      <td>6PQ88X9TkUIAUIZJHW2upE</td>\n",
       "      <td>spotify:track:6PQ88X9TkUIAUIZJHW2upE</td>\n",
       "      <td>https://api.spotify.com/v1/tracks/6PQ88X9TkUIA...</td>\n",
       "      <td>https://api.spotify.com/v1/audio-analysis/6PQ8...</td>\n",
       "      <td>231041</td>\n",
       "      <td>4</td>\n",
       "    </tr>\n",
       "    <tr>\n",
       "      <th>1</th>\n",
       "      <td>0.471</td>\n",
       "      <td>0.396</td>\n",
       "      <td>8</td>\n",
       "      <td>-6.654</td>\n",
       "      <td>1</td>\n",
       "      <td>0.0336</td>\n",
       "      <td>0.7700</td>\n",
       "      <td>0.000000</td>\n",
       "      <td>0.0729</td>\n",
       "      <td>0.263</td>\n",
       "      <td>149.609</td>\n",
       "      <td>audio_features</td>\n",
       "      <td>44V6EzbUSYgyfsNiP0FrlA</td>\n",
       "      <td>spotify:track:44V6EzbUSYgyfsNiP0FrlA</td>\n",
       "      <td>https://api.spotify.com/v1/tracks/44V6EzbUSYgy...</td>\n",
       "      <td>https://api.spotify.com/v1/audio-analysis/44V6...</td>\n",
       "      <td>215507</td>\n",
       "      <td>4</td>\n",
       "    </tr>\n",
       "    <tr>\n",
       "      <th>2</th>\n",
       "      <td>0.666</td>\n",
       "      <td>0.796</td>\n",
       "      <td>10</td>\n",
       "      <td>-6.967</td>\n",
       "      <td>0</td>\n",
       "      <td>0.1030</td>\n",
       "      <td>0.0492</td>\n",
       "      <td>0.000000</td>\n",
       "      <td>0.0442</td>\n",
       "      <td>0.610</td>\n",
       "      <td>110.108</td>\n",
       "      <td>audio_features</td>\n",
       "      <td>1058fW9H3fZA6QjYCdOBad</td>\n",
       "      <td>spotify:track:1058fW9H3fZA6QjYCdOBad</td>\n",
       "      <td>https://api.spotify.com/v1/tracks/1058fW9H3fZA...</td>\n",
       "      <td>https://api.spotify.com/v1/audio-analysis/1058...</td>\n",
       "      <td>164842</td>\n",
       "      <td>4</td>\n",
       "    </tr>\n",
       "    <tr>\n",
       "      <th>3</th>\n",
       "      <td>0.493</td>\n",
       "      <td>0.597</td>\n",
       "      <td>2</td>\n",
       "      <td>-6.944</td>\n",
       "      <td>1</td>\n",
       "      <td>0.3050</td>\n",
       "      <td>0.3370</td>\n",
       "      <td>0.000000</td>\n",
       "      <td>0.0711</td>\n",
       "      <td>0.660</td>\n",
       "      <td>90.096</td>\n",
       "      <td>audio_features</td>\n",
       "      <td>3RjL8AnKslWWPmlNLTJsAU</td>\n",
       "      <td>spotify:track:3RjL8AnKslWWPmlNLTJsAU</td>\n",
       "      <td>https://api.spotify.com/v1/tracks/3RjL8AnKslWW...</td>\n",
       "      <td>https://api.spotify.com/v1/audio-analysis/3RjL...</td>\n",
       "      <td>194680</td>\n",
       "      <td>4</td>\n",
       "    </tr>\n",
       "    <tr>\n",
       "      <th>4</th>\n",
       "      <td>0.641</td>\n",
       "      <td>0.551</td>\n",
       "      <td>9</td>\n",
       "      <td>-6.165</td>\n",
       "      <td>1</td>\n",
       "      <td>0.0532</td>\n",
       "      <td>0.1470</td>\n",
       "      <td>0.000000</td>\n",
       "      <td>0.1200</td>\n",
       "      <td>0.417</td>\n",
       "      <td>102.912</td>\n",
       "      <td>audio_features</td>\n",
       "      <td>22eqegdVyWgAQAwLkm7L9b</td>\n",
       "      <td>spotify:track:22eqegdVyWgAQAwLkm7L9b</td>\n",
       "      <td>https://api.spotify.com/v1/tracks/22eqegdVyWgA...</td>\n",
       "      <td>https://api.spotify.com/v1/audio-analysis/22eq...</td>\n",
       "      <td>220891</td>\n",
       "      <td>4</td>\n",
       "    </tr>\n",
       "    <tr>\n",
       "      <th>...</th>\n",
       "      <td>...</td>\n",
       "      <td>...</td>\n",
       "      <td>...</td>\n",
       "      <td>...</td>\n",
       "      <td>...</td>\n",
       "      <td>...</td>\n",
       "      <td>...</td>\n",
       "      <td>...</td>\n",
       "      <td>...</td>\n",
       "      <td>...</td>\n",
       "      <td>...</td>\n",
       "      <td>...</td>\n",
       "      <td>...</td>\n",
       "      <td>...</td>\n",
       "      <td>...</td>\n",
       "      <td>...</td>\n",
       "      <td>...</td>\n",
       "      <td>...</td>\n",
       "    </tr>\n",
       "    <tr>\n",
       "      <th>98</th>\n",
       "      <td>0.718</td>\n",
       "      <td>0.211</td>\n",
       "      <td>8</td>\n",
       "      <td>-6.750</td>\n",
       "      <td>1</td>\n",
       "      <td>0.0375</td>\n",
       "      <td>0.9230</td>\n",
       "      <td>0.000000</td>\n",
       "      <td>0.0722</td>\n",
       "      <td>0.319</td>\n",
       "      <td>139.695</td>\n",
       "      <td>audio_features</td>\n",
       "      <td>3tuYdyfbhxhOBke6fmfqBG</td>\n",
       "      <td>spotify:track:3tuYdyfbhxhOBke6fmfqBG</td>\n",
       "      <td>https://api.spotify.com/v1/tracks/3tuYdyfbhxhO...</td>\n",
       "      <td>https://api.spotify.com/v1/audio-analysis/3tuY...</td>\n",
       "      <td>214286</td>\n",
       "      <td>4</td>\n",
       "    </tr>\n",
       "    <tr>\n",
       "      <th>99</th>\n",
       "      <td>0.581</td>\n",
       "      <td>0.604</td>\n",
       "      <td>11</td>\n",
       "      <td>-8.674</td>\n",
       "      <td>1</td>\n",
       "      <td>0.0330</td>\n",
       "      <td>0.6070</td>\n",
       "      <td>0.000000</td>\n",
       "      <td>0.3440</td>\n",
       "      <td>0.661</td>\n",
       "      <td>136.051</td>\n",
       "      <td>audio_features</td>\n",
       "      <td>5oS4eECZJsZ713iQ4caIlD</td>\n",
       "      <td>spotify:track:5oS4eECZJsZ713iQ4caIlD</td>\n",
       "      <td>https://api.spotify.com/v1/tracks/5oS4eECZJsZ7...</td>\n",
       "      <td>https://api.spotify.com/v1/audio-analysis/5oS4...</td>\n",
       "      <td>171251</td>\n",
       "      <td>4</td>\n",
       "    </tr>\n",
       "    <tr>\n",
       "      <th>100</th>\n",
       "      <td>0.706</td>\n",
       "      <td>0.714</td>\n",
       "      <td>0</td>\n",
       "      <td>-3.675</td>\n",
       "      <td>1</td>\n",
       "      <td>0.2410</td>\n",
       "      <td>0.1350</td>\n",
       "      <td>0.000000</td>\n",
       "      <td>0.0589</td>\n",
       "      <td>0.454</td>\n",
       "      <td>99.009</td>\n",
       "      <td>audio_features</td>\n",
       "      <td>2Y40dKXeOF4duACkBOAcTu</td>\n",
       "      <td>spotify:track:2Y40dKXeOF4duACkBOAcTu</td>\n",
       "      <td>https://api.spotify.com/v1/tracks/2Y40dKXeOF4d...</td>\n",
       "      <td>https://api.spotify.com/v1/audio-analysis/2Y40...</td>\n",
       "      <td>211504</td>\n",
       "      <td>4</td>\n",
       "    </tr>\n",
       "    <tr>\n",
       "      <th>101</th>\n",
       "      <td>0.333</td>\n",
       "      <td>0.409</td>\n",
       "      <td>5</td>\n",
       "      <td>-7.841</td>\n",
       "      <td>1</td>\n",
       "      <td>0.0396</td>\n",
       "      <td>0.9290</td>\n",
       "      <td>0.000000</td>\n",
       "      <td>0.1540</td>\n",
       "      <td>0.518</td>\n",
       "      <td>65.573</td>\n",
       "      <td>audio_features</td>\n",
       "      <td>2lUB3DmQbrQrYeGWc3PfcY</td>\n",
       "      <td>spotify:track:2lUB3DmQbrQrYeGWc3PfcY</td>\n",
       "      <td>https://api.spotify.com/v1/tracks/2lUB3DmQbrQr...</td>\n",
       "      <td>https://api.spotify.com/v1/audio-analysis/2lUB...</td>\n",
       "      <td>149526</td>\n",
       "      <td>4</td>\n",
       "    </tr>\n",
       "    <tr>\n",
       "      <th>102</th>\n",
       "      <td>0.639</td>\n",
       "      <td>0.411</td>\n",
       "      <td>6</td>\n",
       "      <td>-8.746</td>\n",
       "      <td>1</td>\n",
       "      <td>0.0343</td>\n",
       "      <td>0.0633</td>\n",
       "      <td>0.000024</td>\n",
       "      <td>0.0781</td>\n",
       "      <td>0.268</td>\n",
       "      <td>104.925</td>\n",
       "      <td>audio_features</td>\n",
       "      <td>66c2aovkJat36B3Todz9kz</td>\n",
       "      <td>spotify:track:66c2aovkJat36B3Todz9kz</td>\n",
       "      <td>https://api.spotify.com/v1/tracks/66c2aovkJat3...</td>\n",
       "      <td>https://api.spotify.com/v1/audio-analysis/66c2...</td>\n",
       "      <td>225614</td>\n",
       "      <td>4</td>\n",
       "    </tr>\n",
       "  </tbody>\n",
       "</table>\n",
       "<p>103 rows × 18 columns</p>\n",
       "</div>"
      ],
      "text/plain": [
       "     danceability  energy  key  loudness  mode  speechiness  acousticness  \\\n",
       "0           0.808   0.897   11    -3.712     0       0.0348        0.0469   \n",
       "1           0.471   0.396    8    -6.654     1       0.0336        0.7700   \n",
       "2           0.666   0.796   10    -6.967     0       0.1030        0.0492   \n",
       "3           0.493   0.597    2    -6.944     1       0.3050        0.3370   \n",
       "4           0.641   0.551    9    -6.165     1       0.0532        0.1470   \n",
       "..            ...     ...  ...       ...   ...          ...           ...   \n",
       "98          0.718   0.211    8    -6.750     1       0.0375        0.9230   \n",
       "99          0.581   0.604   11    -8.674     1       0.0330        0.6070   \n",
       "100         0.706   0.714    0    -3.675     1       0.2410        0.1350   \n",
       "101         0.333   0.409    5    -7.841     1       0.0396        0.9290   \n",
       "102         0.639   0.411    6    -8.746     1       0.0343        0.0633   \n",
       "\n",
       "     instrumentalness  liveness  valence    tempo            type  \\\n",
       "0            0.000031    0.3640    0.591  126.026  audio_features   \n",
       "1            0.000000    0.0729    0.263  149.609  audio_features   \n",
       "2            0.000000    0.0442    0.610  110.108  audio_features   \n",
       "3            0.000000    0.0711    0.660   90.096  audio_features   \n",
       "4            0.000000    0.1200    0.417  102.912  audio_features   \n",
       "..                ...       ...      ...      ...             ...   \n",
       "98           0.000000    0.0722    0.319  139.695  audio_features   \n",
       "99           0.000000    0.3440    0.661  136.051  audio_features   \n",
       "100          0.000000    0.0589    0.454   99.009  audio_features   \n",
       "101          0.000000    0.1540    0.518   65.573  audio_features   \n",
       "102          0.000024    0.0781    0.268  104.925  audio_features   \n",
       "\n",
       "                         id                                   uri  \\\n",
       "0    6PQ88X9TkUIAUIZJHW2upE  spotify:track:6PQ88X9TkUIAUIZJHW2upE   \n",
       "1    44V6EzbUSYgyfsNiP0FrlA  spotify:track:44V6EzbUSYgyfsNiP0FrlA   \n",
       "2    1058fW9H3fZA6QjYCdOBad  spotify:track:1058fW9H3fZA6QjYCdOBad   \n",
       "3    3RjL8AnKslWWPmlNLTJsAU  spotify:track:3RjL8AnKslWWPmlNLTJsAU   \n",
       "4    22eqegdVyWgAQAwLkm7L9b  spotify:track:22eqegdVyWgAQAwLkm7L9b   \n",
       "..                      ...                                   ...   \n",
       "98   3tuYdyfbhxhOBke6fmfqBG  spotify:track:3tuYdyfbhxhOBke6fmfqBG   \n",
       "99   5oS4eECZJsZ713iQ4caIlD  spotify:track:5oS4eECZJsZ713iQ4caIlD   \n",
       "100  2Y40dKXeOF4duACkBOAcTu  spotify:track:2Y40dKXeOF4duACkBOAcTu   \n",
       "101  2lUB3DmQbrQrYeGWc3PfcY  spotify:track:2lUB3DmQbrQrYeGWc3PfcY   \n",
       "102  66c2aovkJat36B3Todz9kz  spotify:track:66c2aovkJat36B3Todz9kz   \n",
       "\n",
       "                                            track_href  \\\n",
       "0    https://api.spotify.com/v1/tracks/6PQ88X9TkUIA...   \n",
       "1    https://api.spotify.com/v1/tracks/44V6EzbUSYgy...   \n",
       "2    https://api.spotify.com/v1/tracks/1058fW9H3fZA...   \n",
       "3    https://api.spotify.com/v1/tracks/3RjL8AnKslWW...   \n",
       "4    https://api.spotify.com/v1/tracks/22eqegdVyWgA...   \n",
       "..                                                 ...   \n",
       "98   https://api.spotify.com/v1/tracks/3tuYdyfbhxhO...   \n",
       "99   https://api.spotify.com/v1/tracks/5oS4eECZJsZ7...   \n",
       "100  https://api.spotify.com/v1/tracks/2Y40dKXeOF4d...   \n",
       "101  https://api.spotify.com/v1/tracks/2lUB3DmQbrQr...   \n",
       "102  https://api.spotify.com/v1/tracks/66c2aovkJat3...   \n",
       "\n",
       "                                          analysis_url  duration_ms  \\\n",
       "0    https://api.spotify.com/v1/audio-analysis/6PQ8...       231041   \n",
       "1    https://api.spotify.com/v1/audio-analysis/44V6...       215507   \n",
       "2    https://api.spotify.com/v1/audio-analysis/1058...       164842   \n",
       "3    https://api.spotify.com/v1/audio-analysis/3RjL...       194680   \n",
       "4    https://api.spotify.com/v1/audio-analysis/22eq...       220891   \n",
       "..                                                 ...          ...   \n",
       "98   https://api.spotify.com/v1/audio-analysis/3tuY...       214286   \n",
       "99   https://api.spotify.com/v1/audio-analysis/5oS4...       171251   \n",
       "100  https://api.spotify.com/v1/audio-analysis/2Y40...       211504   \n",
       "101  https://api.spotify.com/v1/audio-analysis/2lUB...       149526   \n",
       "102  https://api.spotify.com/v1/audio-analysis/66c2...       225614   \n",
       "\n",
       "     time_signature  \n",
       "0                 4  \n",
       "1                 4  \n",
       "2                 4  \n",
       "3                 4  \n",
       "4                 4  \n",
       "..              ...  \n",
       "98                4  \n",
       "99                4  \n",
       "100               4  \n",
       "101               4  \n",
       "102               4  \n",
       "\n",
       "[103 rows x 18 columns]"
      ]
     },
     "execution_count": 9,
     "metadata": {},
     "output_type": "execute_result"
    }
   ],
   "source": [
    "x = extract_track_features('mflowerday', '4LLPsq8SiYV2R5lHdhblhG')\n",
    "print(len(x))\n",
    "x"
   ]
  },
  {
   "cell_type": "code",
   "execution_count": 10,
   "id": "b3873bf0",
   "metadata": {},
   "outputs": [
    {
     "data": {
      "text/plain": [
       "dict_keys(['href', 'items', 'limit', 'next', 'offset', 'previous', 'total'])"
      ]
     },
     "execution_count": 10,
     "metadata": {},
     "output_type": "execute_result"
    }
   ],
   "source": [
    "\"\"\"# extract the track ID for each track in the playlist\n",
    "track_ids = [playlist_data['tracks']['items'][index]['track']['id'] for index in range(num_tracks)]\n",
    "\n",
    "# obtain track features for all tracks using their ids\n",
    "track_audio_features = sp.audio_features(track_ids)\n",
    "\n",
    "# create a dataframe from these features\n",
    "track_audio_features_df = pd.DataFrame(track_audio_features)\n",
    "return track_audio_features_df\"\"\"\n",
    "\n",
    "playlist_data = sp.user_playlist('mflowerday', '4LLPsq8SiYV2R5lHdhblhG')\n",
    "\n",
    "# determine the number of tracks in the playlist\n",
    "num_tracks = len(playlist_data['tracks']['items'])\n",
    "playlist_data['tracks'].keys()#['items']"
   ]
  },
  {
   "cell_type": "markdown",
   "id": "5bd80df5",
   "metadata": {},
   "source": [
    "# Data Exploration"
   ]
  },
  {
   "cell_type": "code",
   "execution_count": 11,
   "id": "e5a27e9e",
   "metadata": {},
   "outputs": [
    {
     "data": {
      "text/html": [
       "<div>\n",
       "<style scoped>\n",
       "    .dataframe tbody tr th:only-of-type {\n",
       "        vertical-align: middle;\n",
       "    }\n",
       "\n",
       "    .dataframe tbody tr th {\n",
       "        vertical-align: top;\n",
       "    }\n",
       "\n",
       "    .dataframe thead th {\n",
       "        text-align: right;\n",
       "    }\n",
       "</style>\n",
       "<table border=\"1\" class=\"dataframe\">\n",
       "  <thead>\n",
       "    <tr style=\"text-align: right;\">\n",
       "      <th></th>\n",
       "      <th>danceability</th>\n",
       "      <th>energy</th>\n",
       "      <th>key</th>\n",
       "      <th>loudness</th>\n",
       "      <th>mode</th>\n",
       "      <th>speechiness</th>\n",
       "      <th>acousticness</th>\n",
       "      <th>instrumentalness</th>\n",
       "      <th>liveness</th>\n",
       "      <th>valence</th>\n",
       "      <th>tempo</th>\n",
       "      <th>type</th>\n",
       "      <th>id</th>\n",
       "      <th>uri</th>\n",
       "      <th>track_href</th>\n",
       "      <th>analysis_url</th>\n",
       "      <th>duration_ms</th>\n",
       "      <th>time_signature</th>\n",
       "      <th>target</th>\n",
       "    </tr>\n",
       "  </thead>\n",
       "  <tbody>\n",
       "    <tr>\n",
       "      <th>0</th>\n",
       "      <td>0.798</td>\n",
       "      <td>0.433</td>\n",
       "      <td>5</td>\n",
       "      <td>-17.178</td>\n",
       "      <td>0</td>\n",
       "      <td>0.0538</td>\n",
       "      <td>0.244</td>\n",
       "      <td>0.909</td>\n",
       "      <td>0.0988</td>\n",
       "      <td>0.958</td>\n",
       "      <td>138.906</td>\n",
       "      <td>audio_features</td>\n",
       "      <td>2MRqleq1CRK4W6M4GLEty9</td>\n",
       "      <td>spotify:track:2MRqleq1CRK4W6M4GLEty9</td>\n",
       "      <td>https://api.spotify.com/v1/tracks/2MRqleq1CRK4...</td>\n",
       "      <td>https://api.spotify.com/v1/audio-analysis/2MRq...</td>\n",
       "      <td>172664</td>\n",
       "      <td>4</td>\n",
       "      <td>1</td>\n",
       "    </tr>\n",
       "    <tr>\n",
       "      <th>1</th>\n",
       "      <td>0.788</td>\n",
       "      <td>0.473</td>\n",
       "      <td>0</td>\n",
       "      <td>-15.841</td>\n",
       "      <td>0</td>\n",
       "      <td>0.0473</td>\n",
       "      <td>0.319</td>\n",
       "      <td>0.682</td>\n",
       "      <td>0.1160</td>\n",
       "      <td>0.928</td>\n",
       "      <td>141.943</td>\n",
       "      <td>audio_features</td>\n",
       "      <td>3X8guTSbsClprONxbSAMaE</td>\n",
       "      <td>spotify:track:3X8guTSbsClprONxbSAMaE</td>\n",
       "      <td>https://api.spotify.com/v1/tracks/3X8guTSbsClp...</td>\n",
       "      <td>https://api.spotify.com/v1/audio-analysis/3X8g...</td>\n",
       "      <td>169041</td>\n",
       "      <td>4</td>\n",
       "      <td>1</td>\n",
       "    </tr>\n",
       "    <tr>\n",
       "      <th>2</th>\n",
       "      <td>0.717</td>\n",
       "      <td>0.513</td>\n",
       "      <td>11</td>\n",
       "      <td>-16.535</td>\n",
       "      <td>1</td>\n",
       "      <td>0.0591</td>\n",
       "      <td>0.245</td>\n",
       "      <td>0.886</td>\n",
       "      <td>0.1050</td>\n",
       "      <td>0.943</td>\n",
       "      <td>182.073</td>\n",
       "      <td>audio_features</td>\n",
       "      <td>7Ih3ohVIFuaoVwo5EZoLqd</td>\n",
       "      <td>spotify:track:7Ih3ohVIFuaoVwo5EZoLqd</td>\n",
       "      <td>https://api.spotify.com/v1/tracks/7Ih3ohVIFuao...</td>\n",
       "      <td>https://api.spotify.com/v1/audio-analysis/7Ih3...</td>\n",
       "      <td>179351</td>\n",
       "      <td>4</td>\n",
       "      <td>1</td>\n",
       "    </tr>\n",
       "    <tr>\n",
       "      <th>3</th>\n",
       "      <td>0.803</td>\n",
       "      <td>0.199</td>\n",
       "      <td>5</td>\n",
       "      <td>-25.781</td>\n",
       "      <td>1</td>\n",
       "      <td>0.0515</td>\n",
       "      <td>0.804</td>\n",
       "      <td>0.858</td>\n",
       "      <td>0.1030</td>\n",
       "      <td>0.464</td>\n",
       "      <td>94.981</td>\n",
       "      <td>audio_features</td>\n",
       "      <td>3SJ0MlI53CHZZyEF6lWnLz</td>\n",
       "      <td>spotify:track:3SJ0MlI53CHZZyEF6lWnLz</td>\n",
       "      <td>https://api.spotify.com/v1/tracks/3SJ0MlI53CHZ...</td>\n",
       "      <td>https://api.spotify.com/v1/audio-analysis/3SJ0...</td>\n",
       "      <td>171828</td>\n",
       "      <td>4</td>\n",
       "      <td>1</td>\n",
       "    </tr>\n",
       "    <tr>\n",
       "      <th>4</th>\n",
       "      <td>0.698</td>\n",
       "      <td>0.220</td>\n",
       "      <td>6</td>\n",
       "      <td>-18.455</td>\n",
       "      <td>1</td>\n",
       "      <td>0.0651</td>\n",
       "      <td>0.388</td>\n",
       "      <td>0.738</td>\n",
       "      <td>0.0902</td>\n",
       "      <td>0.782</td>\n",
       "      <td>174.005</td>\n",
       "      <td>audio_features</td>\n",
       "      <td>78ErfFFn7bFAZayAWshVaN</td>\n",
       "      <td>spotify:track:78ErfFFn7bFAZayAWshVaN</td>\n",
       "      <td>https://api.spotify.com/v1/tracks/78ErfFFn7bFA...</td>\n",
       "      <td>https://api.spotify.com/v1/audio-analysis/78Er...</td>\n",
       "      <td>185517</td>\n",
       "      <td>4</td>\n",
       "      <td>1</td>\n",
       "    </tr>\n",
       "  </tbody>\n",
       "</table>\n",
       "</div>"
      ],
      "text/plain": [
       "   danceability  energy  key  loudness  mode  speechiness  acousticness  \\\n",
       "0         0.798   0.433    5   -17.178     0       0.0538         0.244   \n",
       "1         0.788   0.473    0   -15.841     0       0.0473         0.319   \n",
       "2         0.717   0.513   11   -16.535     1       0.0591         0.245   \n",
       "3         0.803   0.199    5   -25.781     1       0.0515         0.804   \n",
       "4         0.698   0.220    6   -18.455     1       0.0651         0.388   \n",
       "\n",
       "   instrumentalness  liveness  valence    tempo            type  \\\n",
       "0             0.909    0.0988    0.958  138.906  audio_features   \n",
       "1             0.682    0.1160    0.928  141.943  audio_features   \n",
       "2             0.886    0.1050    0.943  182.073  audio_features   \n",
       "3             0.858    0.1030    0.464   94.981  audio_features   \n",
       "4             0.738    0.0902    0.782  174.005  audio_features   \n",
       "\n",
       "                       id                                   uri  \\\n",
       "0  2MRqleq1CRK4W6M4GLEty9  spotify:track:2MRqleq1CRK4W6M4GLEty9   \n",
       "1  3X8guTSbsClprONxbSAMaE  spotify:track:3X8guTSbsClprONxbSAMaE   \n",
       "2  7Ih3ohVIFuaoVwo5EZoLqd  spotify:track:7Ih3ohVIFuaoVwo5EZoLqd   \n",
       "3  3SJ0MlI53CHZZyEF6lWnLz  spotify:track:3SJ0MlI53CHZZyEF6lWnLz   \n",
       "4  78ErfFFn7bFAZayAWshVaN  spotify:track:78ErfFFn7bFAZayAWshVaN   \n",
       "\n",
       "                                          track_href  \\\n",
       "0  https://api.spotify.com/v1/tracks/2MRqleq1CRK4...   \n",
       "1  https://api.spotify.com/v1/tracks/3X8guTSbsClp...   \n",
       "2  https://api.spotify.com/v1/tracks/7Ih3ohVIFuao...   \n",
       "3  https://api.spotify.com/v1/tracks/3SJ0MlI53CHZ...   \n",
       "4  https://api.spotify.com/v1/tracks/78ErfFFn7bFA...   \n",
       "\n",
       "                                        analysis_url  duration_ms  \\\n",
       "0  https://api.spotify.com/v1/audio-analysis/2MRq...       172664   \n",
       "1  https://api.spotify.com/v1/audio-analysis/3X8g...       169041   \n",
       "2  https://api.spotify.com/v1/audio-analysis/7Ih3...       179351   \n",
       "3  https://api.spotify.com/v1/audio-analysis/3SJ0...       171828   \n",
       "4  https://api.spotify.com/v1/audio-analysis/78Er...       185517   \n",
       "\n",
       "   time_signature  target  \n",
       "0               4       1  \n",
       "1               4       1  \n",
       "2               4       1  \n",
       "3               4       1  \n",
       "4               4       1  "
      ]
     },
     "execution_count": 11,
     "metadata": {},
     "output_type": "execute_result"
    }
   ],
   "source": [
    "# inspect our data\n",
    "good_features.head()"
   ]
  },
  {
   "cell_type": "code",
   "execution_count": 12,
   "id": "91e7d47e",
   "metadata": {},
   "outputs": [
    {
     "data": {
      "text/html": [
       "<div>\n",
       "<style scoped>\n",
       "    .dataframe tbody tr th:only-of-type {\n",
       "        vertical-align: middle;\n",
       "    }\n",
       "\n",
       "    .dataframe tbody tr th {\n",
       "        vertical-align: top;\n",
       "    }\n",
       "\n",
       "    .dataframe thead th {\n",
       "        text-align: right;\n",
       "    }\n",
       "</style>\n",
       "<table border=\"1\" class=\"dataframe\">\n",
       "  <thead>\n",
       "    <tr style=\"text-align: right;\">\n",
       "      <th></th>\n",
       "      <th>danceability</th>\n",
       "      <th>energy</th>\n",
       "      <th>key</th>\n",
       "      <th>loudness</th>\n",
       "      <th>mode</th>\n",
       "      <th>speechiness</th>\n",
       "      <th>acousticness</th>\n",
       "      <th>instrumentalness</th>\n",
       "      <th>liveness</th>\n",
       "      <th>valence</th>\n",
       "      <th>tempo</th>\n",
       "      <th>type</th>\n",
       "      <th>id</th>\n",
       "      <th>uri</th>\n",
       "      <th>track_href</th>\n",
       "      <th>analysis_url</th>\n",
       "      <th>duration_ms</th>\n",
       "      <th>time_signature</th>\n",
       "      <th>target</th>\n",
       "    </tr>\n",
       "  </thead>\n",
       "  <tbody>\n",
       "    <tr>\n",
       "      <th>0</th>\n",
       "      <td>0.476</td>\n",
       "      <td>0.941</td>\n",
       "      <td>1</td>\n",
       "      <td>-3.978</td>\n",
       "      <td>1</td>\n",
       "      <td>0.0606</td>\n",
       "      <td>0.000011</td>\n",
       "      <td>0.000006</td>\n",
       "      <td>0.0822</td>\n",
       "      <td>0.524</td>\n",
       "      <td>84.986</td>\n",
       "      <td>audio_features</td>\n",
       "      <td>6IHYWWmVyVXVk8b8rBYy9z</td>\n",
       "      <td>spotify:track:6IHYWWmVyVXVk8b8rBYy9z</td>\n",
       "      <td>https://api.spotify.com/v1/tracks/6IHYWWmVyVXV...</td>\n",
       "      <td>https://api.spotify.com/v1/audio-analysis/6IHY...</td>\n",
       "      <td>209162</td>\n",
       "      <td>4</td>\n",
       "      <td>0</td>\n",
       "    </tr>\n",
       "    <tr>\n",
       "      <th>1</th>\n",
       "      <td>0.394</td>\n",
       "      <td>0.866</td>\n",
       "      <td>2</td>\n",
       "      <td>-7.225</td>\n",
       "      <td>1</td>\n",
       "      <td>0.0615</td>\n",
       "      <td>0.000020</td>\n",
       "      <td>0.057500</td>\n",
       "      <td>0.2360</td>\n",
       "      <td>0.250</td>\n",
       "      <td>136.463</td>\n",
       "      <td>audio_features</td>\n",
       "      <td>3Ms2nBYdWz7lEyx35othR4</td>\n",
       "      <td>spotify:track:3Ms2nBYdWz7lEyx35othR4</td>\n",
       "      <td>https://api.spotify.com/v1/tracks/3Ms2nBYdWz7l...</td>\n",
       "      <td>https://api.spotify.com/v1/audio-analysis/3Ms2...</td>\n",
       "      <td>216640</td>\n",
       "      <td>4</td>\n",
       "      <td>0</td>\n",
       "    </tr>\n",
       "    <tr>\n",
       "      <th>2</th>\n",
       "      <td>0.250</td>\n",
       "      <td>0.946</td>\n",
       "      <td>2</td>\n",
       "      <td>-3.712</td>\n",
       "      <td>0</td>\n",
       "      <td>0.1360</td>\n",
       "      <td>0.009630</td>\n",
       "      <td>0.000805</td>\n",
       "      <td>0.2890</td>\n",
       "      <td>0.349</td>\n",
       "      <td>160.878</td>\n",
       "      <td>audio_features</td>\n",
       "      <td>5YezFqlDub2RcIDSCPcpu1</td>\n",
       "      <td>spotify:track:5YezFqlDub2RcIDSCPcpu1</td>\n",
       "      <td>https://api.spotify.com/v1/tracks/5YezFqlDub2R...</td>\n",
       "      <td>https://api.spotify.com/v1/audio-analysis/5Yez...</td>\n",
       "      <td>349736</td>\n",
       "      <td>4</td>\n",
       "      <td>0</td>\n",
       "    </tr>\n",
       "    <tr>\n",
       "      <th>3</th>\n",
       "      <td>0.480</td>\n",
       "      <td>0.940</td>\n",
       "      <td>3</td>\n",
       "      <td>-4.456</td>\n",
       "      <td>0</td>\n",
       "      <td>0.0329</td>\n",
       "      <td>0.000098</td>\n",
       "      <td>0.000021</td>\n",
       "      <td>0.0338</td>\n",
       "      <td>0.620</td>\n",
       "      <td>107.994</td>\n",
       "      <td>audio_features</td>\n",
       "      <td>4TCZ8OiB35UIpgwsrxhJsF</td>\n",
       "      <td>spotify:track:4TCZ8OiB35UIpgwsrxhJsF</td>\n",
       "      <td>https://api.spotify.com/v1/tracks/4TCZ8OiB35UI...</td>\n",
       "      <td>https://api.spotify.com/v1/audio-analysis/4TCZ...</td>\n",
       "      <td>241519</td>\n",
       "      <td>4</td>\n",
       "      <td>0</td>\n",
       "    </tr>\n",
       "    <tr>\n",
       "      <th>4</th>\n",
       "      <td>0.541</td>\n",
       "      <td>0.875</td>\n",
       "      <td>1</td>\n",
       "      <td>-4.903</td>\n",
       "      <td>1</td>\n",
       "      <td>0.0326</td>\n",
       "      <td>0.000013</td>\n",
       "      <td>0.051300</td>\n",
       "      <td>0.2200</td>\n",
       "      <td>0.334</td>\n",
       "      <td>109.994</td>\n",
       "      <td>audio_features</td>\n",
       "      <td>5BumjEZq3wTMahFXuKnWHr</td>\n",
       "      <td>spotify:track:5BumjEZq3wTMahFXuKnWHr</td>\n",
       "      <td>https://api.spotify.com/v1/tracks/5BumjEZq3wTM...</td>\n",
       "      <td>https://api.spotify.com/v1/audio-analysis/5Bum...</td>\n",
       "      <td>363904</td>\n",
       "      <td>4</td>\n",
       "      <td>0</td>\n",
       "    </tr>\n",
       "  </tbody>\n",
       "</table>\n",
       "</div>"
      ],
      "text/plain": [
       "   danceability  energy  key  loudness  mode  speechiness  acousticness  \\\n",
       "0         0.476   0.941    1    -3.978     1       0.0606      0.000011   \n",
       "1         0.394   0.866    2    -7.225     1       0.0615      0.000020   \n",
       "2         0.250   0.946    2    -3.712     0       0.1360      0.009630   \n",
       "3         0.480   0.940    3    -4.456     0       0.0329      0.000098   \n",
       "4         0.541   0.875    1    -4.903     1       0.0326      0.000013   \n",
       "\n",
       "   instrumentalness  liveness  valence    tempo            type  \\\n",
       "0          0.000006    0.0822    0.524   84.986  audio_features   \n",
       "1          0.057500    0.2360    0.250  136.463  audio_features   \n",
       "2          0.000805    0.2890    0.349  160.878  audio_features   \n",
       "3          0.000021    0.0338    0.620  107.994  audio_features   \n",
       "4          0.051300    0.2200    0.334  109.994  audio_features   \n",
       "\n",
       "                       id                                   uri  \\\n",
       "0  6IHYWWmVyVXVk8b8rBYy9z  spotify:track:6IHYWWmVyVXVk8b8rBYy9z   \n",
       "1  3Ms2nBYdWz7lEyx35othR4  spotify:track:3Ms2nBYdWz7lEyx35othR4   \n",
       "2  5YezFqlDub2RcIDSCPcpu1  spotify:track:5YezFqlDub2RcIDSCPcpu1   \n",
       "3  4TCZ8OiB35UIpgwsrxhJsF  spotify:track:4TCZ8OiB35UIpgwsrxhJsF   \n",
       "4  5BumjEZq3wTMahFXuKnWHr  spotify:track:5BumjEZq3wTMahFXuKnWHr   \n",
       "\n",
       "                                          track_href  \\\n",
       "0  https://api.spotify.com/v1/tracks/6IHYWWmVyVXV...   \n",
       "1  https://api.spotify.com/v1/tracks/3Ms2nBYdWz7l...   \n",
       "2  https://api.spotify.com/v1/tracks/5YezFqlDub2R...   \n",
       "3  https://api.spotify.com/v1/tracks/4TCZ8OiB35UI...   \n",
       "4  https://api.spotify.com/v1/tracks/5BumjEZq3wTM...   \n",
       "\n",
       "                                        analysis_url  duration_ms  \\\n",
       "0  https://api.spotify.com/v1/audio-analysis/6IHY...       209162   \n",
       "1  https://api.spotify.com/v1/audio-analysis/3Ms2...       216640   \n",
       "2  https://api.spotify.com/v1/audio-analysis/5Yez...       349736   \n",
       "3  https://api.spotify.com/v1/audio-analysis/4TCZ...       241519   \n",
       "4  https://api.spotify.com/v1/audio-analysis/5Bum...       363904   \n",
       "\n",
       "   time_signature  target  \n",
       "0               4       0  \n",
       "1               4       0  \n",
       "2               4       0  \n",
       "3               4       0  \n",
       "4               4       0  "
      ]
     },
     "execution_count": 12,
     "metadata": {},
     "output_type": "execute_result"
    }
   ],
   "source": [
    "bad_features.head()"
   ]
  },
  {
   "cell_type": "code",
   "execution_count": 13,
   "id": "c84cf956",
   "metadata": {},
   "outputs": [
    {
     "name": "stdout",
     "output_type": "stream",
     "text": [
      "<class 'pandas.core.frame.DataFrame'>\n",
      "RangeIndex: 1177 entries, 0 to 1176\n",
      "Data columns (total 19 columns):\n",
      " #   Column            Non-Null Count  Dtype  \n",
      "---  ------            --------------  -----  \n",
      " 0   danceability      1177 non-null   float64\n",
      " 1   energy            1177 non-null   float64\n",
      " 2   key               1177 non-null   int64  \n",
      " 3   loudness          1177 non-null   float64\n",
      " 4   mode              1177 non-null   int64  \n",
      " 5   speechiness       1177 non-null   float64\n",
      " 6   acousticness      1177 non-null   float64\n",
      " 7   instrumentalness  1177 non-null   float64\n",
      " 8   liveness          1177 non-null   float64\n",
      " 9   valence           1177 non-null   float64\n",
      " 10  tempo             1177 non-null   float64\n",
      " 11  type              1177 non-null   object \n",
      " 12  id                1177 non-null   object \n",
      " 13  uri               1177 non-null   object \n",
      " 14  track_href        1177 non-null   object \n",
      " 15  analysis_url      1177 non-null   object \n",
      " 16  duration_ms       1177 non-null   int64  \n",
      " 17  time_signature    1177 non-null   int64  \n",
      " 18  target            1177 non-null   int64  \n",
      "dtypes: float64(9), int64(5), object(5)\n",
      "memory usage: 174.8+ KB\n"
     ]
    }
   ],
   "source": [
    "good_features.info()"
   ]
  },
  {
   "cell_type": "code",
   "execution_count": 14,
   "id": "dae9818d",
   "metadata": {},
   "outputs": [
    {
     "name": "stdout",
     "output_type": "stream",
     "text": [
      "<class 'pandas.core.frame.DataFrame'>\n",
      "RangeIndex: 861 entries, 0 to 860\n",
      "Data columns (total 19 columns):\n",
      " #   Column            Non-Null Count  Dtype  \n",
      "---  ------            --------------  -----  \n",
      " 0   danceability      861 non-null    float64\n",
      " 1   energy            861 non-null    float64\n",
      " 2   key               861 non-null    int64  \n",
      " 3   loudness          861 non-null    float64\n",
      " 4   mode              861 non-null    int64  \n",
      " 5   speechiness       861 non-null    float64\n",
      " 6   acousticness      861 non-null    float64\n",
      " 7   instrumentalness  861 non-null    float64\n",
      " 8   liveness          861 non-null    float64\n",
      " 9   valence           861 non-null    float64\n",
      " 10  tempo             861 non-null    float64\n",
      " 11  type              861 non-null    object \n",
      " 12  id                861 non-null    object \n",
      " 13  uri               861 non-null    object \n",
      " 14  track_href        861 non-null    object \n",
      " 15  analysis_url      861 non-null    object \n",
      " 16  duration_ms       861 non-null    int64  \n",
      " 17  time_signature    861 non-null    int64  \n",
      " 18  target            861 non-null    int64  \n",
      "dtypes: float64(9), int64(5), object(5)\n",
      "memory usage: 127.9+ KB\n"
     ]
    }
   ],
   "source": [
    "bad_features.info()"
   ]
  },
  {
   "cell_type": "code",
   "execution_count": 15,
   "id": "c11e24b1",
   "metadata": {},
   "outputs": [
    {
     "data": {
      "text/plain": [
       "danceability         462\n",
       "energy               601\n",
       "key                   12\n",
       "loudness            1117\n",
       "mode                   2\n",
       "speechiness          542\n",
       "acousticness         709\n",
       "instrumentalness     593\n",
       "liveness             330\n",
       "valence              656\n",
       "tempo               1151\n",
       "type                   1\n",
       "id                  1175\n",
       "uri                 1175\n",
       "track_href          1175\n",
       "analysis_url        1175\n",
       "duration_ms          766\n",
       "time_signature         4\n",
       "target                 1\n",
       "dtype: int64"
      ]
     },
     "execution_count": 15,
     "metadata": {},
     "output_type": "execute_result"
    }
   ],
   "source": [
    "good_features.nunique()"
   ]
  },
  {
   "cell_type": "code",
   "execution_count": 16,
   "id": "7afac624",
   "metadata": {},
   "outputs": [
    {
     "data": {
      "text/plain": [
       "danceability        401\n",
       "energy              263\n",
       "key                  12\n",
       "loudness            786\n",
       "mode                  2\n",
       "speechiness         520\n",
       "acousticness        705\n",
       "instrumentalness    683\n",
       "liveness            510\n",
       "valence             513\n",
       "tempo               827\n",
       "type                  1\n",
       "id                  838\n",
       "uri                 838\n",
       "track_href          838\n",
       "analysis_url        838\n",
       "duration_ms         801\n",
       "time_signature        4\n",
       "target                1\n",
       "dtype: int64"
      ]
     },
     "execution_count": 16,
     "metadata": {},
     "output_type": "execute_result"
    }
   ],
   "source": [
    "bad_features.nunique()"
   ]
  },
  {
   "cell_type": "markdown",
   "id": "75f324e5",
   "metadata": {},
   "source": [
    "## Feature Selection\n",
    "- 'type' has only one observation, 'audio_features', which is not useful for our use case and so can be removed.\n",
    "- 'id', 'uri', 'track_href' and 'analysis_url' are all uniuque to each track which is not useful for our use case and so can be removed."
   ]
  },
  {
   "cell_type": "code",
   "execution_count": 17,
   "id": "10b8e8bd",
   "metadata": {},
   "outputs": [],
   "source": [
    "def feature_selection(dataframe):\n",
    "    '''remove features that will not add value to modelling'''\n",
    "    dataframe = dataframe.drop(['type', 'id', 'uri', 'track_href', 'analysis_url'], axis=1)\n",
    "    return dataframe"
   ]
  },
  {
   "cell_type": "code",
   "execution_count": 18,
   "id": "acb19790",
   "metadata": {},
   "outputs": [],
   "source": [
    "good_features = feature_selection(good_features)\n",
    "bad_features = feature_selection(bad_features)"
   ]
  },
  {
   "cell_type": "markdown",
   "id": "dd3a8235",
   "metadata": {},
   "source": [
    "## Exploring Distributions\n",
    "The remaining variables can be classified as follows:\n",
    "\n",
    "### Continuous variables\n",
    "- danceability\n",
    "- energy\n",
    "- loudness\n",
    "- speechiness\n",
    "- acousticness\n",
    "- instrumentalness\n",
    "- liveness\n",
    "- valence\n",
    "- tempo\n",
    "- duration_ms\n",
    "\n",
    "### Binary Variables\n",
    "- mode\n",
    "- target (created during program)\n",
    "\n",
    "### Categorical Variables\n",
    "- key (these can be further grouped)\n",
    "- time_signature\n",
    "<br><br><br>\n",
    "We can visualise Continuous distributions well using Histograms and categorical variables using count plots"
   ]
  },
  {
   "cell_type": "code",
   "execution_count": 19,
   "id": "4f0a64f2",
   "metadata": {},
   "outputs": [],
   "source": [
    "def plot_hist(feature):\n",
    "    '''Plot histograms comparing the distribution good and bad continuous song features'''\n",
    "    \n",
    "    # determin an appropriate binning for the hisogram\n",
    "    min_value = min(min(good_features[feature]), min(bad_features[feature]))\n",
    "    max_value = max(max(good_features[feature]), max(bad_features[feature]))\n",
    "    bins = np.linspace(min_value, max_value, 20)\n",
    "    \n",
    "    # plot the histograms\n",
    "    plt.hist(good_features[feature], bins, alpha=0.5, label='good')\n",
    "    plt.hist(bad_features[feature], bins, alpha=0.5, label='bad')\n",
    "    plt.legend(loc='upper right')\n",
    "    plt.title(feature)\n",
    "    plt.show()"
   ]
  },
  {
   "cell_type": "code",
   "execution_count": 20,
   "id": "d81ba969",
   "metadata": {},
   "outputs": [],
   "source": [
    "def plot_hists(dataframe):\n",
    "    '''Plot comparrison histograms for each continuous feature in a dataframe'''\n",
    "    for feature in dataframe.columns:\n",
    "        if dataframe[feature].dtype == 'float64' or feature == 'duration_ms':\n",
    "            plot_hist(feature)"
   ]
  },
  {
   "cell_type": "code",
   "execution_count": 21,
   "id": "8449ffed",
   "metadata": {},
   "outputs": [
    {
     "data": {
      "image/png": "[encoded data removed]",
      "text/plain": [
       "<Figure size 432x288 with 1 Axes>"
      ]
     },
     "metadata": {
      "needs_background": "light"
     },
     "output_type": "display_data"
    },
    {
     "data": {
      "image/png": "[encoded data removed]",
      "text/plain": [
       "<Figure size 432x288 with 1 Axes>"
      ]
     },
     "metadata": {
      "needs_background": "light"
     },
     "output_type": "display_data"
    },
    {
     "data": {
      "image/png": "[encoded data removed]",
      "text/plain": [
       "<Figure size 432x288 with 1 Axes>"
      ]
     },
     "metadata": {
      "needs_background": "light"
     },
     "output_type": "display_data"
    },
    {
     "data": {
      "image/png": "[encoded data removed]",
      "text/plain": [
       "<Figure size 432x288 with 1 Axes>"
      ]
     },
     "metadata": {
      "needs_background": "light"
     },
     "output_type": "display_data"
    },
    {
     "data": {
      "image/png": "[encoded data removed]",
      "text/plain": [
       "<Figure size 432x288 with 1 Axes>"
      ]
     },
     "metadata": {
      "needs_background": "light"
     },
     "output_type": "display_data"
    },
    {
     "data": {
      "image/png": "[encoded data removed]",
      "text/plain": [
       "<Figure size 432x288 with 1 Axes>"
      ]
     },
     "metadata": {
      "needs_background": "light"
     },
     "output_type": "display_data"
    },
    {
     "data": {
      "image/png": "[encoded data removed]",
      "text/plain": [
       "<Figure size 432x288 with 1 Axes>"
      ]
     },
     "metadata": {
      "needs_background": "light"
     },
     "output_type": "display_data"
    },
    {
     "data": {
      "image/png": "[encoded data removed]",
      "text/plain": [
       "<Figure size 432x288 with 1 Axes>"
      ]
     },
     "metadata": {
      "needs_background": "light"
     },
     "output_type": "display_data"
    },
    {
     "data": {
      "image/png": "[encoded data removed]",
      "text/plain": [
       "<Figure size 432x288 with 1 Axes>"
      ]
     },
     "metadata": {
      "needs_background": "light"
     },
     "output_type": "display_data"
    },
    {
     "data": {
      "image/png": "[encoded data removed]",
      "text/plain": [
       "<Figure size 432x288 with 1 Axes>"
      ]
     },
     "metadata": {
      "needs_background": "light"
     },
     "output_type": "display_data"
    }
   ],
   "source": [
    "plot_hists(good_features)"
   ]
  },
  {
   "cell_type": "code",
   "execution_count": 22,
   "id": "9c35ce70",
   "metadata": {},
   "outputs": [],
   "source": [
    "# combine datasets to be used in countplots\n",
    "combined_features = pd.concat([good_features, bad_features], axis=0)"
   ]
  },
  {
   "cell_type": "code",
   "execution_count": 23,
   "id": "e218af1d",
   "metadata": {},
   "outputs": [],
   "source": [
    "def plot_countplot(dataframe, feature):\n",
    "    '''plots and labels a countplot of the chosen feature in the chosen dataframe'''\n",
    "    sns.countplot(x=feature, data=dataframe, hue='target')\n",
    "    plt.title(feature)\n",
    "    plt.show()"
   ]
  },
  {
   "cell_type": "code",
   "execution_count": 24,
   "id": "97a44011",
   "metadata": {},
   "outputs": [],
   "source": [
    "def plot_countplots(dataframe):\n",
    "    '''Plot countplots for each categorical feature in a dataframe'''\n",
    "    for feature in dataframe.columns:\n",
    "        if feature in ['mode', 'key', 'time_signature', 'target']:\n",
    "            print(dataframe[feature].dtype)\n",
    "            plot_countplot(dataframe, feature)"
   ]
  },
  {
   "cell_type": "code",
   "execution_count": 25,
   "id": "a426c093",
   "metadata": {},
   "outputs": [
    {
     "name": "stdout",
     "output_type": "stream",
     "text": [
      "int64\n"
     ]
    },
    {
     "data": {
      "image/png": "[encoded data removed]",
      "text/plain": [
       "<Figure size 432x288 with 1 Axes>"
      ]
     },
     "metadata": {
      "needs_background": "light"
     },
     "output_type": "display_data"
    },
    {
     "name": "stdout",
     "output_type": "stream",
     "text": [
      "int64\n"
     ]
    },
    {
     "data": {
      "image/png": "[encoded data removed]",
      "text/plain": [
       "<Figure size 432x288 with 1 Axes>"
      ]
     },
     "metadata": {
      "needs_background": "light"
     },
     "output_type": "display_data"
    },
    {
     "name": "stdout",
     "output_type": "stream",
     "text": [
      "int64\n"
     ]
    },
    {
     "data": {
      "image/png": "[encoded data removed]",
      "text/plain": [
       "<Figure size 432x288 with 1 Axes>"
      ]
     },
     "metadata": {
      "needs_background": "light"
     },
     "output_type": "display_data"
    },
    {
     "name": "stdout",
     "output_type": "stream",
     "text": [
      "int64\n"
     ]
    },
    {
     "data": {
      "image/png": "[encoded data removed]",
      "text/plain": [
       "<Figure size 432x288 with 1 Axes>"
      ]
     },
     "metadata": {
      "needs_background": "light"
     },
     "output_type": "display_data"
    }
   ],
   "source": [
    "plot_countplots(combined_features)"
   ]
  },
  {
   "cell_type": "markdown",
   "id": "749cf972",
   "metadata": {},
   "source": [
    "## Balancing our dataset\n",
    "This program allows the user to use 'good' and 'bad' playlists of different lengths, because of this we may end up with unbalanced data being fed into our models, this would lead to bias in our model toward the class that has more observations (the playlist with more songs).\n",
    "\n",
    "One method to counter this is to use Resampling (could be under or over sampling)\n",
    "Reference: https://towardsdatascience.com/having-an-imbalanced-dataset-here-is-how-you-can-solve-it-1640568947eb \n"
   ]
  },
  {
   "cell_type": "code",
   "execution_count": 89,
   "id": "c78a81a7",
   "metadata": {},
   "outputs": [],
   "source": [
    "# downsample dataframe to balance data (don't allow replacement)\n",
    "def downsample(good_features, bad_features):\n",
    "    '''takes potentially imballenced good and bad features dataframes as input\n",
    "        downsamples them without replacement\n",
    "        '''\n",
    "    \n",
    "    # find the number of samples in the 'shorter' playlist\n",
    "    num_samples = min(len(good_features), len(bad_features))\n",
    "                      \n",
    "    good_features_sample = good_features.sample(n=num_samples, random_state=42)\n",
    "    bad_features_sample = bad_features.sample(n=num_samples, random_state=42)\n",
    "    \n",
    "    return good_features_sample, bad_features_sample"
   ]
  },
  {
   "cell_type": "code",
   "execution_count": 90,
   "id": "2d45f7ef",
   "metadata": {},
   "outputs": [],
   "source": [
    "good_features_downsample, bad_features_downsample = downsample(good_features, bad_features)"
   ]
  },
  {
   "cell_type": "code",
   "execution_count": 91,
   "id": "9f65c85d",
   "metadata": {},
   "outputs": [
    {
     "data": {
      "image/png": "[encoded data removed]",
      "text/plain": [
       "<Figure size 432x288 with 1 Axes>"
      ]
     },
     "metadata": {
      "needs_background": "light"
     },
     "output_type": "display_data"
    },
    {
     "data": {
      "image/png": "[encoded data removed]",
      "text/plain": [
       "<Figure size 432x288 with 1 Axes>"
      ]
     },
     "metadata": {
      "needs_background": "light"
     },
     "output_type": "display_data"
    },
    {
     "data": {
      "image/png": "[encoded data removed]",
      "text/plain": [
       "<Figure size 432x288 with 1 Axes>"
      ]
     },
     "metadata": {
      "needs_background": "light"
     },
     "output_type": "display_data"
    },
    {
     "data": {
      "image/png": "[encoded data removed]",
      "text/plain": [
       "<Figure size 432x288 with 1 Axes>"
      ]
     },
     "metadata": {
      "needs_background": "light"
     },
     "output_type": "display_data"
    },
    {
     "data": {
      "image/png": "[encoded data removed]",
      "text/plain": [
       "<Figure size 432x288 with 1 Axes>"
      ]
     },
     "metadata": {
      "needs_background": "light"
     },
     "output_type": "display_data"
    },
    {
     "data": {
      "image/png": "[encoded data removed]",
      "text/plain": [
       "<Figure size 432x288 with 1 Axes>"
      ]
     },
     "metadata": {
      "needs_background": "light"
     },
     "output_type": "display_data"
    },
    {
     "data": {
      "image/png": "[encoded data removed]",
      "text/plain": [
       "<Figure size 432x288 with 1 Axes>"
      ]
     },
     "metadata": {
      "needs_background": "light"
     },
     "output_type": "display_data"
    },
    {
     "data": {
      "image/png": "[encoded data removed]",
      "text/plain": [
       "<Figure size 432x288 with 1 Axes>"
      ]
     },
     "metadata": {
      "needs_background": "light"
     },
     "output_type": "display_data"
    },
    {
     "data": {
      "image/png": "[encoded data removed]",
      "text/plain": [
       "<Figure size 432x288 with 1 Axes>"
      ]
     },
     "metadata": {
      "needs_background": "light"
     },
     "output_type": "display_data"
    },
    {
     "data": {
      "image/png": "[encoded data removed]",
      "text/plain": [
       "<Figure size 432x288 with 1 Axes>"
      ]
     },
     "metadata": {
      "needs_background": "light"
     },
     "output_type": "display_data"
    }
   ],
   "source": [
    "plot_hists(good_features_downsample)"
   ]
  },
  {
   "cell_type": "code",
   "execution_count": 92,
   "id": "5dbd74f3",
   "metadata": {},
   "outputs": [],
   "source": [
    "combined_features_downsample = pd.concat([good_features_downsample, bad_features_downsample], axis=0)"
   ]
  },
  {
   "cell_type": "code",
   "execution_count": 93,
   "id": "dc3bf347",
   "metadata": {},
   "outputs": [
    {
     "name": "stdout",
     "output_type": "stream",
     "text": [
      "int64\n"
     ]
    },
    {
     "data": {
      "image/png": "[encoded data removed]",
      "text/plain": [
       "<Figure size 432x288 with 1 Axes>"
      ]
     },
     "metadata": {
      "needs_background": "light"
     },
     "output_type": "display_data"
    },
    {
     "name": "stdout",
     "output_type": "stream",
     "text": [
      "int64\n"
     ]
    },
    {
     "data": {
      "image/png": "[encoded data removed]",
      "text/plain": [
       "<Figure size 432x288 with 1 Axes>"
      ]
     },
     "metadata": {
      "needs_background": "light"
     },
     "output_type": "display_data"
    },
    {
     "name": "stdout",
     "output_type": "stream",
     "text": [
      "int64\n"
     ]
    },
    {
     "data": {
      "image/png": "[encoded data removed]",
      "text/plain": [
       "<Figure size 432x288 with 1 Axes>"
      ]
     },
     "metadata": {
      "needs_background": "light"
     },
     "output_type": "display_data"
    },
    {
     "name": "stdout",
     "output_type": "stream",
     "text": [
      "int64\n"
     ]
    },
    {
     "data": {
      "image/png": "[encoded data removed]",
      "text/plain": [
       "<Figure size 432x288 with 1 Axes>"
      ]
     },
     "metadata": {
      "needs_background": "light"
     },
     "output_type": "display_data"
    }
   ],
   "source": [
    "plot_countplots(combined_features_downsample)"
   ]
  },
  {
   "cell_type": "code",
   "execution_count": 88,
   "id": "9f863726",
   "metadata": {},
   "outputs": [],
   "source": [
    "# upsample dataframe to balance data (allow replacement in the 'longer' playlist)\n",
    "def upsample(good_features, bad_features):\n",
    "    '''takes potentially imballenced good and bad features dataframes as input\n",
    "        downsamples them without replacement\n",
    "        '''\n",
    "    \n",
    "    # find the number of samples in the 'shorter' playlist\n",
    "    num_samples = max(len(good_features), len(bad_features))\n",
    "    \n",
    "    # determine which playlist has more songs\n",
    "    good_features_shortest = True\n",
    "    if len(good_features) > len(bad_features):\n",
    "        good_features_shortest = False\n",
    "    bad_features_shortest = not good_features_shortest\n",
    "                      \n",
    "    good_features_sample = good_features.sample(n=num_samples, random_state=42, replace=good_features_shortest)\n",
    "    bad_features_sample = bad_features.sample(n=num_samples, random_state=42, replace=bad_features_shortest)\n",
    "    \n",
    "    return good_features_sample, bad_features_sample"
   ]
  },
  {
   "cell_type": "code",
   "execution_count": 83,
   "id": "3e728ccd",
   "metadata": {},
   "outputs": [],
   "source": [
    "good_features_upsample, bad_features_upsample = downsample(good_features, bad_features)"
   ]
  },
  {
   "cell_type": "code",
   "execution_count": 84,
   "id": "7b331790",
   "metadata": {},
   "outputs": [
    {
     "data": {
      "image/png": "[encoded data removed]",
      "text/plain": [
       "<Figure size 432x288 with 1 Axes>"
      ]
     },
     "metadata": {
      "needs_background": "light"
     },
     "output_type": "display_data"
    },
    {
     "data": {
      "image/png": "[encoded data removed]",
      "text/plain": [
       "<Figure size 432x288 with 1 Axes>"
      ]
     },
     "metadata": {
      "needs_background": "light"
     },
     "output_type": "display_data"
    },
    {
     "data": {
      "image/png": "[encoded data removed]",
      "text/plain": [
       "<Figure size 432x288 with 1 Axes>"
      ]
     },
     "metadata": {
      "needs_background": "light"
     },
     "output_type": "display_data"
    },
    {
     "data": {
      "image/png": "[encoded data removed]",
      "text/plain": [
       "<Figure size 432x288 with 1 Axes>"
      ]
     },
     "metadata": {
      "needs_background": "light"
     },
     "output_type": "display_data"
    },
    {
     "data": {
      "image/png": "[encoded data removed]",
      "text/plain": [
       "<Figure size 432x288 with 1 Axes>"
      ]
     },
     "metadata": {
      "needs_background": "light"
     },
     "output_type": "display_data"
    },
    {
     "data": {
      "image/png": "[encoded data removed]",
      "text/plain": [
       "<Figure size 432x288 with 1 Axes>"
      ]
     },
     "metadata": {
      "needs_background": "light"
     },
     "output_type": "display_data"
    },
    {
     "data": {
      "image/png": "[encoded data removed]",
      "text/plain": [
       "<Figure size 432x288 with 1 Axes>"
      ]
     },
     "metadata": {
      "needs_background": "light"
     },
     "output_type": "display_data"
    },
    {
     "data": {
      "image/png": "[encoded data removed]",
      "text/plain": [
       "<Figure size 432x288 with 1 Axes>"
      ]
     },
     "metadata": {
      "needs_background": "light"
     },
     "output_type": "display_data"
    },
    {
     "data": {
      "image/png": "[encoded data removed]",
      "text/plain": [
       "<Figure size 432x288 with 1 Axes>"
      ]
     },
     "metadata": {
      "needs_background": "light"
     },
     "output_type": "display_data"
    },
    {
     "data": {
      "image/png": "[encoded data removed]",
      "text/plain": [
       "<Figure size 432x288 with 1 Axes>"
      ]
     },
     "metadata": {
      "needs_background": "light"
     },
     "output_type": "display_data"
    }
   ],
   "source": [
    "plot_hists(good_features_upsample)"
   ]
  },
  {
   "cell_type": "code",
   "execution_count": 85,
   "id": "21a358e5",
   "metadata": {},
   "outputs": [],
   "source": [
    "combined_features_upsample = pd.concat([good_features_upsample, bad_features_upsample], axis=0)"
   ]
  },
  {
   "cell_type": "code",
   "execution_count": 86,
   "id": "d8ade9d8",
   "metadata": {},
   "outputs": [
    {
     "name": "stdout",
     "output_type": "stream",
     "text": [
      "int64\n"
     ]
    },
    {
     "data": {
      "image/png": "[encoded data removed]",
      "text/plain": [
       "<Figure size 432x288 with 1 Axes>"
      ]
     },
     "metadata": {
      "needs_background": "light"
     },
     "output_type": "display_data"
    },
    {
     "name": "stdout",
     "output_type": "stream",
     "text": [
      "int64\n"
     ]
    },
    {
     "data": {
      "image/png": "[encoded data removed]",
      "text/plain": [
       "<Figure size 432x288 with 1 Axes>"
      ]
     },
     "metadata": {
      "needs_background": "light"
     },
     "output_type": "display_data"
    },
    {
     "name": "stdout",
     "output_type": "stream",
     "text": [
      "int64\n"
     ]
    },
    {
     "data": {
      "image/png": "[encoded data removed]",
      "text/plain": [
       "<Figure size 432x288 with 1 Axes>"
      ]
     },
     "metadata": {
      "needs_background": "light"
     },
     "output_type": "display_data"
    },
    {
     "name": "stdout",
     "output_type": "stream",
     "text": [
      "int64\n"
     ]
    },
    {
     "data": {
      "image/png": "[encoded data removed]",
      "text/plain": [
       "<Figure size 432x288 with 1 Axes>"
      ]
     },
     "metadata": {
      "needs_background": "light"
     },
     "output_type": "display_data"
    }
   ],
   "source": [
    "plot_countplots(combined_features_upsample)"
   ]
  },
  {
   "cell_type": "code",
   "execution_count": null,
   "id": "969ca060",
   "metadata": {},
   "outputs": [],
   "source": []
  }
 ],
 "metadata": {
  "kernelspec": {
   "display_name": "Python 3 (ipykernel)",
   "language": "python",
   "name": "python3"
  },
  "language_info": {
   "codemirror_mode": {
    "name": "ipython",
    "version": 3
   },
   "file_extension": ".py",
   "mimetype": "text/x-python",
   "name": "python",
   "nbconvert_exporter": "python",
   "pygments_lexer": "ipython3",
   "version": "3.9.2"
  }
 },
 "nbformat": 4,
 "nbformat_minor": 5
}
